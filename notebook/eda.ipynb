{
 "cells": [
  {
   "cell_type": "code",
   "execution_count": null,
   "metadata": {},
   "outputs": [],
   "source": [
    "import pandas as pd\n",
    "import numpy as np\n",
    "import matplotlib.pyplot as plt\n",
    "import seaborn as sns"
   ]
  },
  {
   "cell_type": "code",
   "execution_count": null,
   "metadata": {},
   "outputs": [],
   "source": [
    "df = pd.read_csv(r\"C:\\Users\\akintayo.akinpelu\\Desktop\\DS+ML+DL\\ineuron\\Projects\\Machine Learning\\Project-Insurance_Premium_Prediction\\insurance\\artifact\\data_ingestion\\2022-08-15-21-19-55\\raw_data\\insurance.csv\")\n",
    "df"
   ]
  },
  {
   "cell_type": "code",
   "execution_count": null,
   "metadata": {},
   "outputs": [],
   "source": [
    "df[\"cat_age\"] = pd.cut(\n",
    "                df[\"age\"],\n",
    "                bins=[0.0, 20.0, 30.0, 40.0, 50.0, np.inf],\n",
    "                labels=[1,2,3,4,5])"
   ]
  }
 ],
 "metadata": {
  "language_info": {
   "name": "python"
  },
  "orig_nbformat": 4
 },
 "nbformat": 4,
 "nbformat_minor": 2
}
